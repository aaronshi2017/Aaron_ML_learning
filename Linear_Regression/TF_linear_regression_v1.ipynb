{
 "cells": [
  {
   "cell_type": "code",
   "execution_count": 109,
   "id": "68d69833",
   "metadata": {},
   "outputs": [
    {
     "name": "stdout",
     "output_type": "stream",
     "text": [
      "W mean value is 0.5103818038993035\n",
      "b mean value is 6.234221592899288\n",
      "[1.] [5.]\n",
      "<tf.Variable 'Variable:0' shape=(1,) dtype=float64, numpy=array([1.])> <tf.Variable 'Variable:0' shape=(1,) dtype=float64, numpy=array([5.])>\n",
      "Still running, current step is: 500\n",
      "Still running, current step is: 1000\n",
      "Still running, current step is: 1500\n",
      "Still running, current step is: 2000\n",
      "Still running, current step is: 2500\n",
      "Still running, current step is: 3000\n",
      "Still running, current step is: 3500\n",
      "Still running, current step is: 4000\n",
      "Still running, current step is: 4500\n",
      "Still running, current step is: 5000\n",
      "The regression doesn't converge!\n",
      "After 5000 steps, W is 0.64, b is 5.52\n",
      "Runtime of the program is 13.02318525314331\n"
     ]
    },
    {
     "data": {
      "image/png": "[encoded data removed]",
      "text/plain": [
       "<Figure size 432x288 with 1 Axes>"
      ]
     },
     "metadata": {
      "needs_background": "light"
     },
     "output_type": "display_data"
    }
   ],
   "source": [
    "# This program will demo a simple linear regression using Tensorflow. The training data is randomly generated. \n",
    "# The random data is using uniform distributed data \n",
    "# The learning rate is fixed. \n",
    "\n",
    "import tensorflow as tf\n",
    "import numpy as np\n",
    "import matplotlib.pyplot as plt\n",
    "%matplotlib inline\n",
    "import time \n",
    "\n",
    "\n",
    "# Parameters\n",
    "rng = np.random\n",
    "learning_rate = 0.001\n",
    "training_step = 5000\n",
    "display_step = 500\n",
    "n_samples=100\n",
    "\n",
    "testResult=\"NOK\"\n",
    "\n",
    "# Training Data\n",
    "\n",
    "#generate random distribution of w and b\n",
    "w_dis=np.random.uniform(0,1,n_samples)\n",
    "b_dis=np.random.uniform(2,10,n_samples)\n",
    "\n",
    "w_constant=np.mean(w_dis)\n",
    "b_constant=np.mean(b_dis)\n",
    "\n",
    "print(\"W mean value is\",w_constant)\n",
    "print(\"b mean value is\",b_constant)\n",
    "\n",
    "#construct input X and output Y\n",
    "X=np.random.uniform(1,10,n_samples)\n",
    "Y=np.multiply(X,w_dis)+b_dis\n",
    "\n",
    "# Define TF variable W and b\n",
    "# Instead of using random value, we can use defined initial value of W and b\n",
    "W=tf.Variable([1],dtype=tf.float64)\n",
    "b=tf.Variable([5],dtype=tf.float64)\n",
    "# W = tf.Variable(rng.randn(1))\n",
    "# b = tf.Variable(rng.randn(1))\n",
    "\n",
    "print(W.numpy(),b.numpy())\n",
    "print(W,b)\n",
    "\n",
    "# Define Linea regression\n",
    "def linear_regression(x):\n",
    "    return W*x + b\n",
    "# mean squre error\n",
    "def mean_square(y_pred,y_value):\n",
    "    return tf.reduce_sum(tf.pow(y_pred-y_value,2))/(2*n_samples)\n",
    "# defing optimizer\n",
    "optimizer = tf.optimizers.SGD(learning_rate)\n",
    "\n",
    "# Optimization process\n",
    "def run_optimization():\n",
    "    with tf.GradientTape() as g:\n",
    "        pred  = linear_regression(X)\n",
    "        loss = mean_square(pred, Y)\n",
    "        \n",
    "    gradients = g.gradient(loss,[W,b])\n",
    "    optimizer.apply_gradients(zip(gradients,[W,b]))\n",
    "\n",
    "# Calculating \n",
    "start=time.time()\n",
    "for step in range(1,training_step + 1):\n",
    "    run_optimization()\n",
    "    if step % display_step == 0:\n",
    "        print(\"Still running, current step is:\", step)\n",
    "    if (abs(W-w_constant)<0.05) & (abs(b-b_constant)<0.05):\n",
    "        pred = linear_regression(X)\n",
    "        loss = mean_square(pred,Y)\n",
    "        print(\"Running step======>\",step)\n",
    "        print(\"Step: %i, loss: %f, W: %F, b: %f\" % (step,loss,W.numpy(),b.numpy()))\n",
    "        testResult=\"OK\"\n",
    "        break\n",
    "if testResult==\"NOK\":\n",
    "    print(\"The regression doesn't converge!\")\n",
    "    print(\"After %d steps, W is %.2f, b is %.2f\" % (training_step, W, b))\n",
    "end=time.time()\n",
    "print(f\"Runtime of the program is {end - start}\")\n",
    "        \n",
    "plt.scatter(X,Y,c='r',label=\"original data\")\n",
    "plt.plot(X,np.array(W*X + b),c='g',label='Fitted line')\n",
    "plt.legend()\n",
    "plt.show()\n"
   ]
  },
  {
   "cell_type": "code",
   "execution_count": null,
   "id": "5bd4ab67",
   "metadata": {},
   "outputs": [],
   "source": []
  }
 ],
 "metadata": {
  "kernelspec": {
   "display_name": "Python 3",
   "language": "python",
   "name": "python3"
  },
  "language_info": {
   "codemirror_mode": {
    "name": "ipython",
    "version": 3
   },
   "file_extension": ".py",
   "mimetype": "text/x-python",
   "name": "python",
   "nbconvert_exporter": "python",
   "pygments_lexer": "ipython3",
   "version": "3.8.8"
  }
 },
 "nbformat": 4,
 "nbformat_minor": 5
}
