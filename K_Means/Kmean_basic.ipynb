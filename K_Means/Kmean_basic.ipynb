{
 "cells": [
  {
   "cell_type": "code",
   "execution_count": 33,
   "id": "cbe91db6",
   "metadata": {},
   "outputs": [],
   "source": [
    "import pandas as pd\n",
    "import numpy as np\n",
    "import matplotlib.pyplot as plt\n",
    "%matplotlib inline\n",
    "from sklearn.cluster import KMeans\n"
   ]
  },
  {
   "cell_type": "markdown",
   "id": "c62d2ef5",
   "metadata": {},
   "source": [
    "K-means\n",
    "K-means is an iterative algorithm that groups similar data into clusters.It calculates the centroids of k clusters and assigns a data point to that cluster having least distance between its centroid and the data point.\n",
    "\n",
    "k-means-algorithm\n",
    "Figure 6: Steps of the K-means algorithm. Source\n",
    "\n",
    "Here’s how it works:\n",
    "\n",
    "We start by choosing a value of k. Here, let us say k = 3. Then, we randomly assign each data point to any of the 3 clusters. Compute cluster centroid for each of the clusters. The red, blue and green stars denote the centroids for each of the 3 clusters.\n",
    "\n",
    "Next, reassign each point to the closest cluster centroid. In the figure above, the upper 5 points got assigned to the cluster with the blue centroid. Follow the same procedure to assign points to the clusters containing the red and green centroids.\n",
    "\n",
    "Then, calculate centroids for the new clusters. The old centroids are gray stars; the new centroids are the red, green, and blue stars.\n",
    "\n",
    "Finally, repeat steps 2-3 until there is no switching of points from one cluster to another. Once there is no switching for 2 consecutive steps, exit the K-means algorithm."
   ]
  },
  {
   "cell_type": "markdown",
   "id": "2729f215",
   "metadata": {},
   "source": [
    "https://www.dataquest.io/blog/top-10-machine-learning-algorithms-for-beginners/"
   ]
  },
  {
   "cell_type": "code",
   "execution_count": 34,
   "id": "5bb51f8b",
   "metadata": {},
   "outputs": [],
   "source": [
    "X=-2*np.random.rand(100,2)\n"
   ]
  },
  {
   "cell_type": "markdown",
   "id": "663adbee",
   "metadata": {},
   "source": [
    "Random.rand will generate 100 pair of random values within [0,1]"
   ]
  },
  {
   "cell_type": "code",
   "execution_count": 35,
   "id": "91c89ee8",
   "metadata": {},
   "outputs": [
    {
     "name": "stdout",
     "output_type": "stream",
     "text": [
      "[[-1.75934521e+00 -1.53352897e+00]\n",
      " [-1.36470931e+00 -1.09361543e+00]\n",
      " [-1.61566178e-01 -9.75073293e-01]\n",
      " [-1.35731154e-01 -9.88463864e-01]\n",
      " [-2.16907786e-01 -1.15483900e+00]\n",
      " [-6.79501170e-01 -7.35381736e-01]\n",
      " [-2.98832936e-01 -8.90993720e-01]\n",
      " [-1.20869042e+00 -5.53966748e-01]\n",
      " [-1.41365239e+00 -1.15233534e+00]\n",
      " [-1.80534031e-01 -1.49816766e+00]\n",
      " [-3.07187365e-01 -1.39954160e-03]\n",
      " [-8.45908587e-01 -5.24290102e-02]\n",
      " [-1.34566549e+00 -5.51105042e-01]\n",
      " [-7.01630238e-01 -1.47407644e-01]\n",
      " [-6.06004078e-01 -1.83563002e+00]\n",
      " [-1.32526861e+00 -2.17976777e-01]\n",
      " [-2.46160083e-01 -1.85465059e+00]\n",
      " [-1.93111521e+00 -1.35836208e+00]\n",
      " [-1.35732118e+00 -1.95609903e+00]\n",
      " [-1.24081716e+00 -3.21666980e-01]\n",
      " [-8.31008718e-01 -1.20432728e+00]\n",
      " [-8.89605551e-02 -1.75720636e+00]\n",
      " [-1.81931860e+00 -1.62561388e+00]\n",
      " [-1.63230732e+00 -7.70674461e-01]\n",
      " [-4.58414037e-01 -4.29134497e-01]\n",
      " [-1.86603297e+00 -1.46346998e-01]\n",
      " [-1.23954360e+00 -1.56458274e+00]\n",
      " [-3.51517083e-01 -1.73604098e+00]\n",
      " [-2.20841003e-01 -1.26241025e+00]\n",
      " [-8.01491700e-01 -1.18490929e+00]\n",
      " [-1.45005001e+00 -1.74216090e+00]\n",
      " [-1.55977566e+00 -1.05040064e-02]\n",
      " [-9.60732007e-01 -1.13598732e+00]\n",
      " [-7.50934557e-01 -1.45492038e+00]\n",
      " [-1.98079069e+00 -5.55913427e-01]\n",
      " [-4.03289841e-01 -7.23264557e-01]\n",
      " [-4.24922910e-01 -4.43107467e-01]\n",
      " [-1.28344458e+00 -2.38240401e-01]\n",
      " [-1.87012109e+00 -1.29079674e+00]\n",
      " [-3.04943254e-01 -7.47975173e-01]\n",
      " [-8.50103058e-01 -7.02493915e-01]\n",
      " [-1.48004693e-01 -1.46364110e-02]\n",
      " [-1.54664954e+00 -1.51469703e-01]\n",
      " [-1.01814348e+00 -1.26616048e+00]\n",
      " [-1.96685094e-01 -1.33999405e+00]\n",
      " [-2.38221739e-01 -1.10849448e+00]\n",
      " [-1.60232750e+00 -1.52372845e-01]\n",
      " [-1.87494814e+00 -5.07919212e-01]\n",
      " [-5.70628985e-02 -1.18044213e+00]\n",
      " [-2.68366421e-01 -1.29241412e+00]\n",
      " [ 2.34324223e+00  1.31614109e+00]\n",
      " [ 2.17663672e+00  2.88082833e+00]\n",
      " [ 2.62260457e+00  2.85144932e+00]\n",
      " [ 1.80348197e+00  1.35786380e+00]\n",
      " [ 2.26318600e+00  1.46940290e+00]\n",
      " [ 2.82351867e+00  2.20929015e+00]\n",
      " [ 1.59861841e+00  2.81294998e+00]\n",
      " [ 2.42575048e+00  2.76638702e+00]\n",
      " [ 1.52907816e+00  2.19720626e+00]\n",
      " [ 1.61727690e+00  2.47385796e+00]\n",
      " [ 2.90753670e+00  1.03258630e+00]\n",
      " [ 1.51064179e+00  1.71827446e+00]\n",
      " [ 1.80657711e+00  1.06560867e+00]\n",
      " [ 1.33524952e+00  2.16715647e+00]\n",
      " [ 1.42258957e+00  2.71123636e+00]\n",
      " [ 1.19890867e+00  2.01430495e+00]\n",
      " [ 1.74703753e+00  1.35563463e+00]\n",
      " [ 1.00489851e+00  2.05003171e+00]\n",
      " [ 1.55246429e+00  1.02490826e+00]\n",
      " [ 1.29121970e+00  2.53560528e+00]\n",
      " [ 1.13105004e+00  1.29146292e+00]\n",
      " [ 1.13178789e+00  2.08038734e+00]\n",
      " [ 1.02061091e+00  1.83306188e+00]\n",
      " [ 1.00199000e+00  2.04086313e+00]\n",
      " [ 1.53541373e+00  2.92284536e+00]\n",
      " [ 2.18209985e+00  2.94777492e+00]\n",
      " [ 2.33998813e+00  1.08644558e+00]\n",
      " [ 2.63208889e+00  1.00805998e+00]\n",
      " [ 2.47111076e+00  2.94659476e+00]\n",
      " [ 2.62216696e+00  2.74031630e+00]\n",
      " [ 2.36199938e+00  1.14989101e+00]\n",
      " [ 1.89702716e+00  2.95354374e+00]\n",
      " [ 1.71706407e+00  1.58406384e+00]\n",
      " [ 1.57536282e+00  1.35590547e+00]\n",
      " [ 2.21287515e+00  2.89237560e+00]\n",
      " [ 2.17413500e+00  2.48371193e+00]\n",
      " [ 1.60254052e+00  1.17959650e+00]\n",
      " [ 2.86349475e+00  1.80515267e+00]\n",
      " [ 1.45868540e+00  1.96801832e+00]\n",
      " [ 2.82294352e+00  1.52440400e+00]\n",
      " [ 2.54487697e+00  2.11747003e+00]\n",
      " [ 1.47902406e+00  2.35593933e+00]\n",
      " [ 1.74550529e+00  2.77256138e+00]\n",
      " [ 2.73703564e+00  1.20838763e+00]\n",
      " [ 2.17797131e+00  1.42102433e+00]\n",
      " [ 2.62095275e+00  2.06782035e+00]\n",
      " [ 1.20552084e+00  2.74329601e+00]\n",
      " [ 1.30868989e+00  1.51836431e+00]\n",
      " [ 1.86584164e+00  2.13059680e+00]\n",
      " [ 1.09264444e+00  2.68563166e+00]]\n",
      "(100, 2)\n"
     ]
    }
   ],
   "source": [
    "X1=1+2*np.random.rand(50,2) # 50 pair of random values beween [1,3]\n",
    "X[50:100,:]=X1 # assign the last 50 values to X using X1, so that X will have two cluster [-2,0] and [1,3], each 50 points\n",
    "print(X)\n",
    "print(X.shape)"
   ]
  },
  {
   "cell_type": "code",
   "execution_count": 36,
   "id": "2ea16da9",
   "metadata": {},
   "outputs": [
    {
     "data": {
      "text/plain": [
       "<matplotlib.collections.PathCollection at 0x2302ffc8d00>"
      ]
     },
     "execution_count": 36,
     "metadata": {},
     "output_type": "execute_result"
    },
    {
     "data": {
      "image/png": "[encoded data removed]",
      "text/plain": [
       "<Figure size 432x288 with 1 Axes>"
      ]
     },
     "metadata": {
      "needs_background": "light"
     },
     "output_type": "display_data"
    }
   ],
   "source": [
    "plt.scatter(X[:,0],X[:,1], s= 50, c='b')"
   ]
  },
  {
   "cell_type": "code",
   "execution_count": 57,
   "id": "146a3a06",
   "metadata": {},
   "outputs": [
    {
     "data": {
      "text/plain": [
       "KMeans(n_clusters=2)"
      ]
     },
     "execution_count": 57,
     "metadata": {},
     "output_type": "execute_result"
    }
   ],
   "source": [
    "from sklearn.cluster import KMeans\n",
    "Kmean=KMeans(n_clusters=2)\n",
    "Kmean.fit(X)\n"
   ]
  },
  {
   "cell_type": "code",
   "execution_count": 58,
   "id": "96bbeeb4",
   "metadata": {},
   "outputs": [
    {
     "name": "stdout",
     "output_type": "stream",
     "text": [
      "[[ 1.02398193  0.98584294]\n",
      " [-1.02731205 -0.96986416]]\n",
      "[1 1 1 1 1 1 1 1 1 1 1 1 1 1 1 1 1 1 1 1 1 1 1 1 1 1 1 1 1 1 1 1 1 1 1 1 1\n",
      " 1 1 1 1 1 1 1 1 1 1 1 1 1 1 1 1 1 1 1 1 1 1 1 1 1 1 1 1 1 1 1 1 1 1 1 1 1\n",
      " 1 1 1 1 1 1 1 1 1 1 1 1 1 1 1 1 1 1 1 1 1 1 1 1 1 1 1 1 1 1 1 1 1 1 1 1 1\n",
      " 1 1 1 1 1 1 1 1 1 1 1 1 1 1 1 1 1 1 1 1 1 1 1 1 1 1 1 1 1 1 1 1 1 1 1 1 1\n",
      " 1 1 1 1 1 1 1 1 1 1 1 1 1 1 1 1 1 1 1 1 1 1 1 1 1 1 1 1 1 1 1 1 1 1 1 1 1\n",
      " 1 1 1 1 1 1 1 1 1 1 1 1 1 1 1 0 0 0 0 0 0 0 0 0 0 0 0 0 0 0 0 0 0 0 0 0 0\n",
      " 0 0 0 0 0 0 0 0 0 0 0 0 0 0 0 0 0 0 0 0 0 0 0 0 0 0 0 0 0 0 0 0 0 0 0 0 0\n",
      " 0 0 0 0 0 0 0 0 0 0 0 0 0 0 0 0 0 0 0 0 0 0 0 0 0 0 0 0 0 0 0 0 0 0 0 0 0\n",
      " 0 0 0 0 0 0 0 0 0 0 0 0 0 0 0 0 0 0 0 0 0 0 0 0 0 0 0 0 0 0 0 0 0 0 0 0 0\n",
      " 0 0 0 0 0 0 0 0 0 0 0 0 0 0 0 0 0 0 0 0 0 0 0 0 0 0 0 0 0 0 0 0 0 0 0 0 0\n",
      " 0 0 0 0 0 0 0 0 0 0 0 0 0 0 0 0 0 0 0 0 0 0 0 0 0 0 0 0 0 0]\n"
     ]
    }
   ],
   "source": [
    "centroids=Kmean.cluster_centers_ # print out the centroids\n",
    "print(centroids)\n",
    "print(Kmean.labels_)\n"
   ]
  },
  {
   "cell_type": "code",
   "execution_count": 39,
   "id": "363f42f5",
   "metadata": {},
   "outputs": [
    {
     "data": {
      "image/png": "[encoded data removed]",
      "text/plain": [
       "<Figure size 432x288 with 1 Axes>"
      ]
     },
     "metadata": {
      "needs_background": "light"
     },
     "output_type": "display_data"
    }
   ],
   "source": [
    "plt.scatter(X[Kmean.labels_==0,0],X[Kmean.labels_==0,1],s=50,c='blue', label='Cluster1')\n",
    "plt.scatter(X[Kmean.labels_==1,0],X[Kmean.labels_==1,1],s=50,c='black',label='Cluster2')\n",
    "plt.scatter(centroids[0,0],centroids[0,1],s=200,c='g',marker='s')\n",
    "plt.scatter(centroids[1,0],centroids[1,1],s=200,c='r',marker='s')\n",
    "plt.legend()\n",
    "plt.show()"
   ]
  },
  {
   "cell_type": "code",
   "execution_count": 40,
   "id": "c709a52f",
   "metadata": {},
   "outputs": [
    {
     "data": {
      "text/plain": [
       "array([1, 1, 1, 1, 1, 1, 1, 1, 1, 1, 1, 1, 1, 1, 1, 1, 1, 1, 1, 1, 1, 1,\n",
       "       1, 1, 1, 1, 1, 1, 1, 1, 1, 1, 1, 1, 1, 1, 1, 1, 1, 1, 1, 1, 1, 1,\n",
       "       1, 1, 1, 1, 1, 1, 0, 0, 0, 0, 0, 0, 0, 0, 0, 0, 0, 0, 0, 0, 0, 0,\n",
       "       0, 0, 0, 0, 0, 0, 0, 0, 0, 0, 0, 0, 0, 0, 0, 0, 0, 0, 0, 0, 0, 0,\n",
       "       0, 0, 0, 0, 0, 0, 0, 0, 0, 0, 0, 0])"
      ]
     },
     "execution_count": 40,
     "metadata": {},
     "output_type": "execute_result"
    }
   ],
   "source": [
    "Kmean.labels_ # Each point is labelled which cluster it belongs to "
   ]
  },
  {
   "cell_type": "code",
   "execution_count": 41,
   "id": "83b4ada8",
   "metadata": {},
   "outputs": [
    {
     "data": {
      "text/plain": [
       "array([1])"
      ]
     },
     "execution_count": 41,
     "metadata": {},
     "output_type": "execute_result"
    }
   ],
   "source": [
    "sample_test=np.array([-3.0,-3.0])\n",
    "second_test=sample_test.reshape(1,-1)\n",
    "Kmean.predict(second_test)"
   ]
  },
  {
   "cell_type": "markdown",
   "id": "f68bbdc0",
   "metadata": {},
   "source": [
    "https://towardsdatascience.com/understanding-k-means-clustering-in-machine-learning-6a6e67336aa1\n"
   ]
  },
  {
   "cell_type": "markdown",
   "id": "16c28561",
   "metadata": {},
   "source": [
    "Now I want to create a four cluster data for testing "
   ]
  },
  {
   "cell_type": "code",
   "execution_count": 42,
   "id": "ed4e0f25",
   "metadata": {},
   "outputs": [],
   "source": [
    "X1=-1*np.random.rand(100,2)-1\n",
    "X2=-1*np.random.rand(100,2)\n",
    "X3=np.random.rand(100,2)\n",
    "X4=np.random.rand(100,2)+1\n",
    "X=np.concatenate((X1,X2,X3,X4))"
   ]
  },
  {
   "cell_type": "code",
   "execution_count": 44,
   "id": "6fa17acc",
   "metadata": {},
   "outputs": [
    {
     "data": {
      "text/plain": [
       "KMeans(n_clusters=4)"
      ]
     },
     "execution_count": 44,
     "metadata": {},
     "output_type": "execute_result"
    }
   ],
   "source": [
    "from sklearn.cluster import KMeans\n",
    "Kmean=KMeans(n_clusters=4)\n",
    "Kmean.fit(X)\n"
   ]
  },
  {
   "cell_type": "code",
   "execution_count": 45,
   "id": "351bb130",
   "metadata": {},
   "outputs": [
    {
     "name": "stdout",
     "output_type": "stream",
     "text": [
      "4\n",
      "1.4930845928568643\n"
     ]
    }
   ],
   "source": [
    "Kmean.cluster_centers_ # print out the centroids\n",
    "centroid=Kmean.cluster_centers_\n",
    "print(len(centroid))\n",
    "print(centroid[0,1])"
   ]
  },
  {
   "cell_type": "code",
   "execution_count": 46,
   "id": "9e80a811",
   "metadata": {},
   "outputs": [
    {
     "data": {
      "text/plain": [
       "<matplotlib.collections.PathCollection at 0x23030091310>"
      ]
     },
     "execution_count": 46,
     "metadata": {},
     "output_type": "execute_result"
    },
    {
     "data": {
      "image/png": "[encoded data removed]",
      "text/plain": [
       "<Figure size 432x288 with 1 Axes>"
      ]
     },
     "metadata": {
      "needs_background": "light"
     },
     "output_type": "display_data"
    }
   ],
   "source": [
    "plt.scatter(X[:,0],X[:,1],s= 50, c='b')"
   ]
  },
  {
   "cell_type": "code",
   "execution_count": 47,
   "id": "298754bd",
   "metadata": {},
   "outputs": [
    {
     "data": {
      "text/plain": [
       "array([3, 3, 3, 3, 3, 3, 3, 3, 3, 3, 3, 3, 3, 3, 3, 3, 3, 3, 3, 3, 3, 3,\n",
       "       3, 3, 3, 3, 3, 3, 3, 3, 3, 3, 3, 3, 3, 3, 3, 3, 3, 3, 3, 3, 3, 3,\n",
       "       3, 3, 3, 3, 3, 3, 3, 3, 3, 3, 3, 3, 3, 3, 3, 3, 3, 3, 3, 3, 3, 3,\n",
       "       3, 3, 3, 3, 3, 3, 3, 3, 3, 3, 3, 3, 3, 3, 3, 3, 3, 3, 3, 3, 3, 3,\n",
       "       3, 3, 3, 3, 3, 3, 3, 3, 3, 3, 3, 3, 1, 1, 1, 1, 1, 1, 1, 1, 1, 1,\n",
       "       1, 1, 1, 1, 1, 1, 1, 1, 1, 1, 1, 1, 1, 1, 1, 1, 1, 1, 1, 1, 1, 1,\n",
       "       1, 1, 1, 1, 1, 1, 1, 1, 1, 1, 1, 1, 1, 1, 1, 1, 1, 1, 1, 1, 1, 1,\n",
       "       1, 1, 1, 1, 1, 1, 1, 1, 1, 1, 1, 1, 1, 1, 1, 1, 1, 1, 1, 1, 1, 1,\n",
       "       1, 1, 1, 1, 1, 1, 1, 1, 1, 1, 1, 1, 1, 1, 1, 1, 1, 1, 1, 1, 1, 1,\n",
       "       1, 1, 2, 2, 2, 2, 2, 2, 2, 2, 2, 2, 2, 2, 2, 2, 2, 2, 2, 2, 2, 2,\n",
       "       2, 2, 2, 2, 2, 2, 2, 2, 2, 2, 2, 2, 2, 2, 2, 2, 2, 2, 2, 2, 2, 2,\n",
       "       2, 2, 2, 2, 2, 2, 2, 2, 2, 2, 2, 2, 2, 2, 2, 2, 2, 2, 2, 2, 2, 2,\n",
       "       2, 2, 2, 2, 2, 2, 2, 2, 2, 2, 2, 2, 2, 2, 2, 2, 2, 2, 2, 2, 2, 2,\n",
       "       2, 2, 2, 2, 2, 2, 2, 2, 2, 2, 2, 2, 2, 2, 0, 0, 0, 0, 0, 0, 0, 0,\n",
       "       0, 0, 0, 0, 0, 0, 0, 0, 0, 0, 0, 0, 0, 0, 0, 0, 0, 0, 0, 0, 0, 0,\n",
       "       0, 0, 0, 0, 0, 0, 0, 0, 0, 0, 0, 0, 0, 0, 0, 0, 0, 0, 0, 0, 0, 0,\n",
       "       0, 0, 0, 0, 0, 0, 0, 0, 0, 0, 0, 0, 0, 0, 0, 0, 0, 0, 0, 0, 0, 0,\n",
       "       0, 0, 0, 0, 0, 0, 0, 0, 0, 0, 0, 0, 0, 0, 0, 0, 0, 0, 0, 0, 0, 0,\n",
       "       0, 0, 0, 0])"
      ]
     },
     "execution_count": 47,
     "metadata": {},
     "output_type": "execute_result"
    }
   ],
   "source": [
    "Kmean.labels_"
   ]
  },
  {
   "cell_type": "code",
   "execution_count": 24,
   "id": "4b3f93de",
   "metadata": {},
   "outputs": [
    {
     "data": {
      "image/png": "[encoded data removed]",
      "text/plain": [
       "<Figure size 432x288 with 1 Axes>"
      ]
     },
     "metadata": {
      "needs_background": "light"
     },
     "output_type": "display_data"
    }
   ],
   "source": [
    "plt.scatter(X[:,0],X[:,1],s=50,c='b')\n",
    "plt.scatter(centroid[0,0], centroid[0,1],s=200,c='green',marker='s')\n",
    "plt.scatter(centroid[1,0], centroid[1,1],s=200,c='orange',marker='s')\n",
    "plt.scatter(centroid[2,0], centroid[2,1],s=200,c='red',marker='s')\n",
    "plt.scatter(centroid[3,0], centroid[3,1],s=200,c='purple',marker='s')\n",
    "plt.show()"
   ]
  },
  {
   "cell_type": "code",
   "execution_count": 25,
   "id": "238b1d2c",
   "metadata": {},
   "outputs": [
    {
     "name": "stdout",
     "output_type": "stream",
     "text": [
      "[3]\n"
     ]
    }
   ],
   "source": [
    "sample_test=np.array([1,0.9])\n",
    "second_test=sample_test.reshape(1,-1)\n",
    "y=Kmean.predict(second_test)\n",
    "print(y)"
   ]
  },
  {
   "cell_type": "code",
   "execution_count": null,
   "id": "47b6a2a3",
   "metadata": {},
   "outputs": [],
   "source": []
  }
 ],
 "metadata": {
  "kernelspec": {
   "display_name": "Python 3",
   "language": "python",
   "name": "python3"
  },
  "language_info": {
   "codemirror_mode": {
    "name": "ipython",
    "version": 3
   },
   "file_extension": ".py",
   "mimetype": "text/x-python",
   "name": "python",
   "nbconvert_exporter": "python",
   "pygments_lexer": "ipython3",
   "version": "3.8.8"
  }
 },
 "nbformat": 4,
 "nbformat_minor": 5
}
